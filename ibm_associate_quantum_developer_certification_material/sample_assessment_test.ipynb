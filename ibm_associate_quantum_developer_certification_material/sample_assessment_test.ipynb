{
 "cells": [
  {
   "attachments": {},
   "cell_type": "markdown",
   "metadata": {},
   "source": [
    "# Sample assessment test\n",
    "\n",
    "This notebook is an extended version of __[this work](https://github.com/murogrande/IBM-cert-exam-study-questions)__ on some relevant questions for the exam. Each of the question is discussed in more detail and each of the answers is justified by a related code run. Also, in some cases, alternative answers are provided.\n",
    "\n",
    "Before proceeding with the questions, we import some of the tools that we will need for our code:"
   ]
  },
  {
   "cell_type": "code",
   "execution_count": 2,
   "metadata": {},
   "outputs": [],
   "source": [
    "from qiskit import QuantumCircuit, QuantumRegister, ClassicalRegister, Aer, execute, BasicAer, IBMQ\n",
    "from qiskit.visualization import plot_histogram\n",
    "from math import sqrt"
   ]
  },
  {
   "attachments": {},
   "cell_type": "markdown",
   "metadata": {},
   "source": [
    "## Questions\n",
    "\n",
    "### 1. Which code fragment, when run immediately after the code below, will save the following PNG image to disk?"
   ]
  },
  {
   "cell_type": "code",
   "execution_count": 3,
   "metadata": {},
   "outputs": [
    {
     "data": {
      "text/plain": [
       "<qiskit.circuit.instructionset.InstructionSet at 0x1d024cdbb50>"
      ]
     },
     "execution_count": 3,
     "metadata": {},
     "output_type": "execute_result"
    }
   ],
   "source": [
    "qc = QuantumCircuit(2)\n",
    "qc.cx(0,1)\n",
    "\n",
    "# insert code here"
   ]
  },
  {
   "attachments": {},
   "cell_type": "markdown",
   "metadata": {},
   "source": [
    "- A. `qc.draw('circuit_drawing.png')`\n",
    "- B. `qc.write_drawing(format='png', name ='circuit_drawing')`\n",
    "- C. `qc.draw('latex', filename ='circuit_drawing.png')`\n",
    "- D. `qc.draw('mpl', filename ='circuit_drawing.png')`\n",
    "\n",
    "---"
   ]
  },
  {
   "attachments": {},
   "cell_type": "markdown",
   "metadata": {},
   "source": [
    "The answer is __D__. From the __[docs](https://qiskit.org/documentation/stubs/qiskit.circuit.QuantumCircuit.draw.html)__, the `.draw()` method is defined as\n",
    "\n",
    "```\n",
    "QuantumCircuit.draw(output=None, scale=None, filename=None, style=None, interactive=False, plot_barriers=True, reverse_bits=False, justify=None, vertical_compression='medium', idle_wires=True, with_layout=True, fold=None, ax=None, initial_state=False, cregbundle=None, wire_order=None)\n",
    "```\n",
    "\n",
    "where the first parameter, `output`, has the description:\n",
    "\n",
    "```\n",
    "output (str) – select the output method to use for drawing the circuit. Valid choices are text, mpl, latex, latex_source. By default the text drawer is used unless the user config file (usually ~/.qiskit/settings.conf) has an alternative backend set as the default. For example, circuit_drawer = latex. If the output kwarg is set, that backend will always be used over the default in the user config file.\n",
    "```\n",
    "\n",
    "whereas for `filename`:\n",
    "\n",
    "```\n",
    "filename (str) – file path to save image to. Defaults to None.\n",
    "```\n",
    "\n",
    "If we run the code we will see that the PNG version of the image gets stored to the specified path."
   ]
  },
  {
   "cell_type": "code",
   "execution_count": 5,
   "metadata": {},
   "outputs": [
    {
     "data": {
      "image/png": "[encoded data removed]",
      "text/plain": [
       "<Figure size 146.652x144.48 with 1 Axes>"
      ]
     },
     "execution_count": 5,
     "metadata": {},
     "output_type": "execute_result"
    }
   ],
   "source": [
    "qc.draw('mpl', filename='./imgs/question1.png')"
   ]
  },
  {
   "attachments": {},
   "cell_type": "markdown",
   "metadata": {},
   "source": [
    "---\n",
    "---"
   ]
  },
  {
   "attachments": {},
   "cell_type": "markdown",
   "metadata": {},
   "source": [
    "### 2. Which of the count results would be expected from this circuit? "
   ]
  },
  {
   "cell_type": "code",
   "execution_count": 6,
   "metadata": {},
   "outputs": [
    {
     "data": {
      "text/plain": [
       "<qiskit.circuit.instructionset.InstructionSet at 0x1d04b66a040>"
      ]
     },
     "execution_count": 6,
     "metadata": {},
     "output_type": "execute_result"
    }
   ],
   "source": [
    "qc = QuantumCircuit(2,2)\n",
    "\n",
    "qc.h(0)\n",
    "qc.x(1)\n",
    "qc.measure([0,1],[0,1])"
   ]
  },
  {
   "attachments": {},
   "cell_type": "markdown",
   "metadata": {},
   "source": [
    "- A. `{'01': 503, '10':521}`\n",
    "- B. `{'00': 503, '11':521}`\n",
    "- C. `{'10': 503, '11':521}`\n",
    "- D. `{'00': 503, '01':521}`\n",
    "\n",
    "---"
   ]
  },
  {
   "attachments": {},
   "cell_type": "markdown",
   "metadata": {},
   "source": [
    "The answer is __C__. The defined circuit looks like"
   ]
  },
  {
   "cell_type": "code",
   "execution_count": 8,
   "metadata": {},
   "outputs": [
    {
     "data": {
      "image/png": "[encoded data removed]",
      "text/plain": [
       "<Figure size 310.895x204.68 with 1 Axes>"
      ]
     },
     "execution_count": 8,
     "metadata": {},
     "output_type": "execute_result"
    }
   ],
   "source": [
    "qc.draw('mpl', initial_state=True)"
   ]
  },
  {
   "attachments": {},
   "cell_type": "markdown",
   "metadata": {},
   "source": [
    "Where just right before measurement the state of the system is\n",
    "\n",
    "$$ (X\\otimes H)|q_1 q_0\\rangle = X|q_1\\rangle \\otimes H|q_0\\rangle $$\n",
    "\n",
    "Since the specified operations are applied to single qubits, we expect a result where $|q_1\\rangle$ is measured as $|1\\rangle$ with probability $1$ as\n",
    "\n",
    "$$ X|q_1\\rangle = X|0\\rangle = |1\\rangle $$\n",
    "\n",
    "while $|q_0\\rangle$, having been put in a uniform superposition by the Hadamard gate, has $\\tfrac{1}{2}$ probability of being measured in both the $|0\\rangle$ and $|1\\rangle$ states.\n",
    "\n",
    "According to Qiskit's qubit ordering, the measured output string is such that the least significant digit corresponds to the measurement of the $0$-th qubit, meaning that combining the above considerations results in the equally probable outputs `10` and `11`.\n",
    "\n",
    "We can verify this by checking the counts on the simulator:"
   ]
  },
  {
   "cell_type": "code",
   "execution_count": 10,
   "metadata": {},
   "outputs": [
    {
     "name": "stdout",
     "output_type": "stream",
     "text": [
      "counts: {'10': 524, '11': 500}\n"
     ]
    }
   ],
   "source": [
    "sim = Aer.get_backend('qasm_simulator')\n",
    "result = execute(qc, sim).result()\n",
    "counts = result.get_counts()\n",
    "\n",
    "print(f'counts: {counts}')"
   ]
  },
  {
   "attachments": {},
   "cell_type": "markdown",
   "metadata": {},
   "source": [
    "---\n",
    "---"
   ]
  },
  {
   "attachments": {},
   "cell_type": "markdown",
   "metadata": {},
   "source": [
    "### 3. Given the code fragment below, what correctly displays the result for the two quantum registers?"
   ]
  },
  {
   "cell_type": "code",
   "execution_count": 11,
   "metadata": {},
   "outputs": [],
   "source": [
    "qreg_a = QuantumRegister(2)\n",
    "qreg_b = QuantumRegister(2)\n",
    "creg = ClassicalRegister(4)\n",
    "qc = QuantumCircuit(qreg_a,qreg_b,creg)\n",
    "\n",
    "qc.x(qreg_a[0])\n",
    "qc.measure(qreg_a,creg[0:2])\n",
    "qc.measure(qreg_b,creg[2:4])"
   ]
  },
  {
   "attachments": {},
   "cell_type": "markdown",
   "metadata": {},
   "source": [
    "- A. `{'00 01': 1024}`\n",
    "- B. `{'01 00': 1024}`\n",
    "- C. `{'0001': 1024}`\n",
    "- D. `{'0100': 1024}`\n",
    "\n",
    "---"
   ]
  },
  {
   "attachments": {},
   "cell_type": "markdown",
   "metadata": {},
   "source": [
    "The answer is __C__. The defined circuit is"
   ]
  },
  {
   "cell_type": "code",
   "execution_count": 13,
   "metadata": {},
   "outputs": [
    {
     "data": {
      "image/png": "[encoded data removed]",
      "text/plain": [
       "<Figure size 353.795x325.08 with 1 Axes>"
      ]
     },
     "execution_count": 13,
     "metadata": {},
     "output_type": "execute_result"
    }
   ],
   "source": [
    "qc.draw('mpl')"
   ]
  },
  {
   "attachments": {},
   "cell_type": "markdown",
   "metadata": {},
   "source": [
    "As mentioned in the previous question, following Qiskit's bit ordering rule, the $0$-th qubit, the only one whose starting $|0\\rangle$ state gets transformed into $|1\\rangle$ by the $X$-gate, has its output written in the least significant bit of the measured bitstring.\n",
    "\n",
    "With the simulator:"
   ]
  },
  {
   "cell_type": "code",
   "execution_count": 12,
   "metadata": {},
   "outputs": [
    {
     "name": "stdout",
     "output_type": "stream",
     "text": [
      "counts: {'0001': 1024}\n"
     ]
    }
   ],
   "source": [
    "result = execute(qc, sim).result()\n",
    "counts = result.get_counts(qc)\n",
    "print(f'counts: {counts}')"
   ]
  },
  {
   "attachments": {},
   "cell_type": "markdown",
   "metadata": {},
   "source": [
    "---\n",
    "---"
   ]
  },
  {
   "attachments": {},
   "cell_type": "markdown",
   "metadata": {},
   "source": [
    "### 4. Which line of code, if run directly after the code below, would raise an error?"
   ]
  },
  {
   "cell_type": "code",
   "execution_count": 14,
   "metadata": {},
   "outputs": [
    {
     "data": {
      "text/plain": [
       "<qiskit.circuit.instructionset.InstructionSet at 0x1d07e392820>"
      ]
     },
     "execution_count": 14,
     "metadata": {},
     "output_type": "execute_result"
    }
   ],
   "source": [
    "from qiskit import QuantumCircuit\n",
    "qc = QuantumCircuit(2)\n",
    "qc.h(0)\n",
    "qc.cx(0,1)"
   ]
  },
  {
   "attachments": {},
   "cell_type": "markdown",
   "metadata": {},
   "source": [
    "- A. `qc.draw('text')`\n",
    "- B. `qc.draw('mpl')`\n",
    "- C. `qc.draw('png')`\n",
    "- D. `qc.draw('latex_source')`\n",
    "\n",
    "---"
   ]
  },
  {
   "attachments": {},
   "cell_type": "markdown",
   "metadata": {},
   "source": [
    "The answer is __C__. Again, from the __[docs](https://qiskit.org/documentation/stubs/qiskit.circuit.QuantumCircuit.draw.html)__, the first parameter of the `.draw()` method, `output` is described as\n",
    "\n",
    "```\n",
    "output (str) – select the output method to use for drawing the circuit. Valid choices are text, mpl, latex, latex_source. By default the text drawer is used unless the user config file (usually ~/.qiskit/settings.conf) has an alternative backend set as the default. For example, circuit_drawer = latex. If the output kwarg is set, that backend will always be used over the default in the user config file.\n",
    "```\n",
    "\n",
    "meaning that out of all the options, `'png'` is the only non-valid choice, as it also tells us the `VisualizationError: 'Invalid output type png selected. The only valid choices are text, latex, latex_source, and mpl'` we get when running that line of code:"
   ]
  },
  {
   "cell_type": "code",
   "execution_count": 15,
   "metadata": {},
   "outputs": [
    {
     "ename": "VisualizationError",
     "evalue": "'Invalid output type png selected. The only valid choices are text, latex, latex_source, and mpl'",
     "output_type": "error",
     "traceback": [
      "\u001b[1;31m---------------------------------------------------------------------------\u001b[0m",
      "\u001b[1;31mVisualizationError\u001b[0m                        Traceback (most recent call last)",
      "\u001b[1;32m<ipython-input-15-9be15606fe82>\u001b[0m in \u001b[0;36m<module>\u001b[1;34m\u001b[0m\n\u001b[1;32m----> 1\u001b[1;33m \u001b[0mqc\u001b[0m\u001b[1;33m.\u001b[0m\u001b[0mdraw\u001b[0m\u001b[1;33m(\u001b[0m\u001b[1;34m'png'\u001b[0m\u001b[1;33m)\u001b[0m\u001b[1;33m\u001b[0m\u001b[1;33m\u001b[0m\u001b[0m\n\u001b[0m",
      "\u001b[1;32mc:\\Python38\\lib\\site-packages\\qiskit\\circuit\\quantumcircuit.py\u001b[0m in \u001b[0;36mdraw\u001b[1;34m(self, output, scale, filename, style, interactive, plot_barriers, reverse_bits, justify, vertical_compression, idle_wires, with_layout, fold, ax, initial_state, cregbundle)\u001b[0m\n\u001b[0;32m   1604\u001b[0m         \u001b[1;32mfrom\u001b[0m \u001b[0mqiskit\u001b[0m\u001b[1;33m.\u001b[0m\u001b[0mvisualization\u001b[0m \u001b[1;32mimport\u001b[0m \u001b[0mcircuit_drawer\u001b[0m\u001b[1;33m\u001b[0m\u001b[1;33m\u001b[0m\u001b[0m\n\u001b[0;32m   1605\u001b[0m \u001b[1;33m\u001b[0m\u001b[0m\n\u001b[1;32m-> 1606\u001b[1;33m         return circuit_drawer(\n\u001b[0m\u001b[0;32m   1607\u001b[0m             \u001b[0mself\u001b[0m\u001b[1;33m,\u001b[0m\u001b[1;33m\u001b[0m\u001b[1;33m\u001b[0m\u001b[0m\n\u001b[0;32m   1608\u001b[0m             \u001b[0mscale\u001b[0m\u001b[1;33m=\u001b[0m\u001b[0mscale\u001b[0m\u001b[1;33m,\u001b[0m\u001b[1;33m\u001b[0m\u001b[1;33m\u001b[0m\u001b[0m\n",
      "\u001b[1;32mc:\\Python38\\lib\\site-packages\\qiskit\\visualization\\circuit_visualization.py\u001b[0m in \u001b[0;36mcircuit_drawer\u001b[1;34m(circuit, scale, filename, style, output, interactive, plot_barriers, reverse_bits, justify, vertical_compression, idle_wires, with_layout, fold, ax, initial_state, cregbundle)\u001b[0m\n\u001b[0;32m    252\u001b[0m         )\n\u001b[0;32m    253\u001b[0m     \u001b[1;32melse\u001b[0m\u001b[1;33m:\u001b[0m\u001b[1;33m\u001b[0m\u001b[1;33m\u001b[0m\u001b[0m\n\u001b[1;32m--> 254\u001b[1;33m         raise VisualizationError(\n\u001b[0m\u001b[0;32m    255\u001b[0m             \u001b[1;34m\"Invalid output type %s selected. The only valid choices \"\u001b[0m\u001b[1;33m\u001b[0m\u001b[1;33m\u001b[0m\u001b[0m\n\u001b[0;32m    256\u001b[0m             \u001b[1;34m\"are text, latex, latex_source, and mpl\"\u001b[0m \u001b[1;33m%\u001b[0m \u001b[0moutput\u001b[0m\u001b[1;33m\u001b[0m\u001b[1;33m\u001b[0m\u001b[0m\n",
      "\u001b[1;31mVisualizationError\u001b[0m: 'Invalid output type png selected. The only valid choices are text, latex, latex_source, and mpl'"
     ]
    }
   ],
   "source": [
    "qc.draw('png')"
   ]
  },
  {
   "attachments": {},
   "cell_type": "markdown",
   "metadata": {},
   "source": [
    "---\n",
    "---"
   ]
  },
  {
   "attachments": {},
   "cell_type": "markdown",
   "metadata": {},
   "source": [
    "### 5. Which line of code will return a random unitary Operator result such as that shown below?"
   ]
  },
  {
   "attachments": {},
   "cell_type": "markdown",
   "metadata": {},
   "source": [
    "![question5](./imgs/question5.png)"
   ]
  },
  {
   "attachments": {},
   "cell_type": "markdown",
   "metadata": {},
   "source": [
    "- A. `random_statevector('unitary'=2)`\n",
    "- B. `random_unitary(4)`\n",
    "- C. `random_statevector(2)`\n",
    "- D. `random_unitary(2)`\n",
    "\n",
    "---"
   ]
  },
  {
   "attachments": {},
   "cell_type": "markdown",
   "metadata": {},
   "source": [
    "The answer is __D__. Out of the options, A and C are to be immediately excluded as the `.random_statevector()` method __[returns a `Statevector` object](https://qiskit.org/documentation/stubs/qiskit.quantum_info.random_statevector.html)__, while the figure shows an `Operator`. \n",
    "\n",
    "The `.random_unitary(dims, seed=None)` method, according to the __[definition](https://qiskit.org/documentation/stubs/qiskit.quantum_info.random_unitary.html)__, outputs an `Operator` where the `dims` parameter is specified as \n",
    "\n",
    "```\n",
    "dims (int or tuple) – the input dimensions of the Operator.\n",
    "```\n",
    "\n",
    "and since the output shown is that of a $2 \\times 2$ matrix, the correct choice is `random_unitary(2)`\n",
    "\n",
    "We verify this with:"
   ]
  },
  {
   "cell_type": "code",
   "execution_count": 16,
   "metadata": {},
   "outputs": [
    {
     "data": {
      "text/plain": [
       "Operator([[-0.39412528+0.48768084j, -0.03135032-0.77836355j],\n",
       "          [-0.2169962 +0.74816128j,  0.26574881+0.56793038j]],\n",
       "         input_dims=(2,), output_dims=(2,))"
      ]
     },
     "execution_count": 16,
     "metadata": {},
     "output_type": "execute_result"
    }
   ],
   "source": [
    "from qiskit.quantum_info import random_unitary\n",
    "random_unitary(2)"
   ]
  },
  {
   "attachments": {},
   "cell_type": "markdown",
   "metadata": {},
   "source": [
    "---\n",
    "---"
   ]
  },
  {
   "attachments": {},
   "cell_type": "markdown",
   "metadata": {},
   "source": [
    "### 6. Which parameter of the `execute` function can be used to set how much optimization to perform on the circuits?\n",
    "\n",
    "- A. `circuit_level`\n",
    "- B. `optimization_level`\n",
    "- C. `circuit_optimization`\n",
    "- D. `optimize_backend`\n",
    "\n",
    "---"
   ]
  },
  {
   "attachments": {},
   "cell_type": "markdown",
   "metadata": {},
   "source": [
    "The answer is __B__. From the __[docs](https://qiskit.org/documentation/stable/0.24/apidoc/execute.html)__ of `qiskit.execute`, the function is defined as\n",
    "\n",
    "```\n",
    "execute(experiments, backend, basis_gates=None, coupling_map=None, backend_properties=None, initial_layout=None, seed_transpiler=None, optimization_level=None, pass_manager=None, qobj_id=None, qobj_header=None, shots=1024, memory=False, max_credits=10, seed_simulator=None, default_qubit_los=None, default_meas_los=None, schedule_los=None, meas_level=<MeasLevel.CLASSIFIED: 2>, meas_return=<MeasReturnType.AVERAGE: 'avg'>, memory_slots=None, memory_slot_size=100, rep_time=None, rep_delay=None, parameter_binds=None, schedule_circuit=False, inst_map=None, meas_map=None, scheduling_method=None, init_qubits=None, **run_config)\n",
    "```\n",
    "\n",
    "with the following specification for the `optimization_level` parameter:\n",
    "\n",
    "```\n",
    "optimization_level (int) – How much optimization to perform on the circuits. Higher levels generate more optimized circuits, at the expense of longer transpilation time. #. No optimization #. Light optimization #. Heavy optimization #. Highest optimization If None, level 1 will be chosen as default.\n",
    "```\n",
    "\n",
    "The other alternatives are not valid parameters for the method."
   ]
  },
  {
   "attachments": {},
   "cell_type": "markdown",
   "metadata": {},
   "source": [
    "---\n",
    "---"
   ]
  },
  {
   "attachments": {},
   "cell_type": "markdown",
   "metadata": {},
   "source": [
    "### 7. Which code fragment would produce this circuit illustrate below?"
   ]
  },
  {
   "attachments": {},
   "cell_type": "markdown",
   "metadata": {},
   "source": [
    "![question7](./imgs/question7.png)"
   ]
  },
  {
   "attachments": {},
   "cell_type": "markdown",
   "metadata": {},
   "source": [
    "### Select one of the following:"
   ]
  },
  {
   "attachments": {},
   "cell_type": "markdown",
   "metadata": {},
   "source": [
    "- A."
   ]
  },
  {
   "cell_type": "code",
   "execution_count": null,
   "metadata": {},
   "outputs": [],
   "source": [
    "'''OPENQASM 2.0;\n",
    "include \"qelib1.inc\";\n",
    "qreg q[2];\n",
    "creg c[2];\n",
    "h.q[0];\n",
    "barrier (q[0],q[1]);\n",
    "z.q[1];\n",
    "barrier (q[0], q[1]);\n",
    "measure (q[0], c[0]);\n",
    "measure (q[1], c[1]);\n",
    "'''"
   ]
  },
  {
   "attachments": {},
   "cell_type": "markdown",
   "metadata": {},
   "source": [
    "- B."
   ]
  },
  {
   "cell_type": "code",
   "execution_count": null,
   "metadata": {},
   "outputs": [],
   "source": [
    "qc = QuantumCircuit(2,2)\n",
    "qc.h(q[0])\n",
    "qc.barrier(q[0],q[1])\n",
    "qc.z(q[1])\n",
    "qc.barrier(q[0],q[1])\n",
    "m = measure(q[0] -> c[0])\n",
    "m += measure(q[1] -> c[1])\n",
    "qc = qc + m"
   ]
  },
  {
   "attachments": {},
   "cell_type": "markdown",
   "metadata": {},
   "source": [
    "- C."
   ]
  },
  {
   "cell_type": "code",
   "execution_count": null,
   "metadata": {},
   "outputs": [],
   "source": [
    "qc = QuantumCircuit(2,2)\n",
    "qc.h(0)\n",
    "qc.barrier(0,1)\n",
    "qc.z(1)\n",
    "qc.barrier(0,1)\n",
    "qc.measure([0,1],[0,1])"
   ]
  },
  {
   "attachments": {},
   "cell_type": "markdown",
   "metadata": {},
   "source": [
    "- D."
   ]
  },
  {
   "cell_type": "code",
   "execution_count": null,
   "metadata": {},
   "outputs": [],
   "source": [
    "qc = QuantumCircuit(2,2)\n",
    "qc.h(q[0])\n",
    "qc.barrier(q[0],q[1])\n",
    "qc.z(q[1])\n",
    "qc.barrier(q[0],q[1])\n",
    "m = measure(q[0], c[0])\n",
    "m = measure(q[1], c[1])\n",
    "qc = qc + m"
   ]
  },
  {
   "attachments": {},
   "cell_type": "markdown",
   "metadata": {},
   "source": [
    "---"
   ]
  },
  {
   "attachments": {},
   "cell_type": "markdown",
   "metadata": {},
   "source": [
    "The answer is __C__. If we run the code and then plot the result we get:"
   ]
  },
  {
   "cell_type": "code",
   "execution_count": 17,
   "metadata": {},
   "outputs": [
    {
     "data": {
      "image/png": "[encoded data removed]",
      "text/plain": [
       "<Figure size 447.652x204.68 with 1 Axes>"
      ]
     },
     "execution_count": 17,
     "metadata": {},
     "output_type": "execute_result"
    }
   ],
   "source": [
    "qc = QuantumCircuit(2,2)\n",
    "\n",
    "qc.h(0)\n",
    "qc.barrier(0,1)\n",
    "qc.z(1)\n",
    "qc.barrier(0,1)\n",
    "qc.measure([0,1],[0,1])\n",
    "\n",
    "qc.draw('mpl')"
   ]
  },
  {
   "attachments": {},
   "cell_type": "markdown",
   "metadata": {},
   "source": [
    "Option A. is to be discarded since the OpenQASM code shown has the wrong syntax:\n",
    "- the `.` operator for the $H$ and $Z$ gates is misplaced, and should be substituted by a blank space;\n",
    "- the `barrier` instruction __[is defined as](https://openqasm.com/language/delays.html#barrier-instruction)__ `barrier qregs|qubits` and does not allow for paretheses around the target qubits;\n",
    "- from the __[docs](https://openqasm.com/language/insts.html#measurement)__, measurement in OpenQASM 2.0 is done with the command `measure qubit|qubit[] -> bit|bit[]` (while OpenQASM 3.0 also supports `bit|bit[] = measure qubit|qreg`).\n",
    "\n",
    "A valid OpenQASM code that builds our circuit diagram could be:"
   ]
  },
  {
   "cell_type": "code",
   "execution_count": 25,
   "metadata": {},
   "outputs": [
    {
     "data": {
      "image/png": "[encoded data removed]",
      "text/plain": [
       "<Figure size 447.652x204.68 with 1 Axes>"
      ]
     },
     "execution_count": 25,
     "metadata": {},
     "output_type": "execute_result"
    }
   ],
   "source": [
    "qasm_str = '''OPENQASM 2.0;\n",
    "include \"qelib1.inc\";\n",
    "qreg q[2];\n",
    "creg c[2];\n",
    "h q[0];\n",
    "barrier q[0],q[1];\n",
    "z q[1];\n",
    "barrier q[0], q[1];\n",
    "measure q -> c;\n",
    "'''\n",
    "\n",
    "circ = QuantumCircuit.from_qasm_str(qasm_str)\n",
    "\n",
    "circ.draw('mpl')"
   ]
  },
  {
   "attachments": {},
   "cell_type": "markdown",
   "metadata": {},
   "source": [
    "Option B. is not an answer also because of syntax:\n",
    "- no explicit `QuantumRegister` is defined, so individual qubits should be addressed by their (integer) index;\n",
    "- the `.measure()` method is defined as `QuantumCircuit.measure(qubit, cbit)`, so it has to be called on a `QuantumCircuit` object and __[does not support](https://qiskit.org/documentation/stubs/qiskit.circuit.QuantumCircuit.measure.html)__ the arrow operator;also, it returns an `InstructionSet` object which does not support composition by the `+` operator.\n",
    "\n",
    "For similar reason, option D. is also to be excluded."
   ]
  },
  {
   "attachments": {},
   "cell_type": "markdown",
   "metadata": {},
   "source": [
    "---\n",
    "---"
   ]
  },
  {
   "attachments": {},
   "cell_type": "markdown",
   "metadata": {},
   "source": [
    "### 8. Which code fragment would produce the illustrated circuit?"
   ]
  },
  {
   "attachments": {},
   "cell_type": "markdown",
   "metadata": {},
   "source": [
    "![question8](./imgs/question8_.png)"
   ]
  },
  {
   "attachments": {},
   "cell_type": "markdown",
   "metadata": {},
   "source": [
    "- A."
   ]
  },
  {
   "cell_type": "code",
   "execution_count": null,
   "metadata": {},
   "outputs": [],
   "source": [
    "qr = QuantumRegister(2,'q')\n",
    "a = QuantumRegister(1,'a')\n",
    "cr = ClassicalRegister(3,'c')\n",
    "qc = QuantumCircuit(qr,a,cr)\n",
    "qc.h(qr[0:2])\n",
    "qc.x(a[0])"
   ]
  },
  {
   "attachments": {},
   "cell_type": "markdown",
   "metadata": {},
   "source": [
    "- B."
   ]
  },
  {
   "cell_type": "code",
   "execution_count": null,
   "metadata": {},
   "outputs": [],
   "source": [
    "qr = QuantumRegister(2,'q')\n",
    "a = QuantumRegister (1,'a')\n",
    "cr = ClassicalRegister(3,'c')\n",
    "qc = QuantumCircuit(cr,a,qr)\n",
    "qc.h(qr[0:2])\n",
    "qc.x(a[0])"
   ]
  },
  {
   "attachments": {},
   "cell_type": "markdown",
   "metadata": {},
   "source": [
    "- C."
   ]
  },
  {
   "cell_type": "code",
   "execution_count": null,
   "metadata": {},
   "outputs": [],
   "source": [
    "qr = QuantumRegister(2,'q')\n",
    "a = QuantumRegister (1,'a')\n",
    "cr = ClassicalRegister(3,'c')\n",
    "qc = QuantumCircuit(qr,a,cr)\n",
    "qc.h(qr[0:1])\n",
    "qc.x(a[0])"
   ]
  },
  {
   "attachments": {},
   "cell_type": "markdown",
   "metadata": {},
   "source": [
    "- D."
   ]
  },
  {
   "cell_type": "code",
   "execution_count": null,
   "metadata": {},
   "outputs": [],
   "source": [
    "qr = QReg(2,'q')\n",
    "a = QReg (1,'a')\n",
    "cr = CReg(3,'c')\n",
    "qc = QuantumCircuit(qr,a,cr)\n",
    "qc.h(qr[0:2])\n",
    "qc.x(a[0])"
   ]
  },
  {
   "attachments": {},
   "cell_type": "markdown",
   "metadata": {},
   "source": [
    "---"
   ]
  },
  {
   "attachments": {},
   "cell_type": "markdown",
   "metadata": {},
   "source": [
    "The answer is __A__. In fact, if we run it:"
   ]
  },
  {
   "cell_type": "code",
   "execution_count": 34,
   "metadata": {},
   "outputs": [
    {
     "data": {
      "image/png": "[encoded data removed]",
      "text/plain": [
       "<Figure size 146.652x264.88 with 1 Axes>"
      ]
     },
     "execution_count": 34,
     "metadata": {},
     "output_type": "execute_result"
    }
   ],
   "source": [
    "qr = QuantumRegister(2,'q')\n",
    "a = QuantumRegister(1,'a')\n",
    "cr = ClassicalRegister(3,'c')\n",
    "qc = QuantumCircuit(qr,a,cr)\n",
    "qc.h(qr[0:2])\n",
    "qc.x(a[0])\n",
    "\n",
    "qc.draw('mpl')"
   ]
  },
  {
   "attachments": {},
   "cell_type": "markdown",
   "metadata": {},
   "source": [
    "Option B. does not hold since the two `QuantumRegister`s are passed to the `QuantumCircuit()` constructor in the wrong order, meaning that the `a` register will appear above the `q` one. To achieve the desiderd result, we should have `qc = QuantumCircuit(cr,qr,a)` instead of `qc = QuantumCircuit(cr,a,qr)`.\n",
    "\n",
    "Option C. has the registers in order, but the `qc.h(qr[0:1])` instruction specifies that the $H$-gate should be applied only to the $0$-th qubit of the `qr` register, due __[how list slicing works in Python](https://stackoverflow.com/questions/509211/understanding-slicing)__. `qc.h(qr[0:2])` or `qc.h(qr)` would be the valid alternatives.\n",
    "\n",
    "In D., the `QReg` and `CReg` syntaxes for defining quantum and classical register are not correct."
   ]
  },
  {
   "attachments": {},
   "cell_type": "markdown",
   "metadata": {},
   "source": [
    "---\n",
    "---"
   ]
  },
  {
   "attachments": {},
   "cell_type": "markdown",
   "metadata": {},
   "source": [
    "### 9. Select 2. Given this code fragment:"
   ]
  },
  {
   "cell_type": "code",
   "execution_count": 6,
   "metadata": {},
   "outputs": [
    {
     "name": "stderr",
     "output_type": "stream",
     "text": [
      "ibmqfactory.load_account:WARNING:2023-01-11 15:56:13,814: Credentials are already in use. The existing account in the session will be replaced.\n"
     ]
    }
   ],
   "source": [
    "provider = IBMQ.load_account()\n",
    "backend = provider.get_backend('ibmq_qasm_simulator')\n",
    "\n",
    "qr = QuantumRegister(2)\n",
    "cr = ClassicalRegister(2)\n",
    "qc = QuantumCircuit(qr, cr)\n",
    "\n",
    "qc.h(qr[0])\n",
    "qc.cx(qr[0], qr[1])\n",
    "qc.measure(qr, cr)\n",
    "job = execute(qc, backend)\n",
    "\n",
    "job_id = job.job_id()"
   ]
  },
  {
   "attachments": {},
   "cell_type": "markdown",
   "metadata": {},
   "source": [
    "### Which two lines of code would each provide some information about the job?\n",
    "\n",
    "- A. `job_monitor(job)`\n",
    "- B. `job_monitor(backend)`\n",
    "- C. `backend.status()`\n",
    "- D. `job.status()` \n",
    "- E. `provider.status()`\n",
    "\n",
    "---"
   ]
  },
  {
   "attachments": {},
   "cell_type": "markdown",
   "metadata": {},
   "source": [
    "Answers are __A__ and __D__. The `.execute()` method returns an `IBMQJob` instance which can either be fed as a parameter to `.job_monitor()`, as specified __[here](https://qiskit.org/documentation/stable/0.28/stubs/qiskit.providers.ibmq.job.IBMQJob.html?highlight=ibmqjob#qiskit.providers.ibmq.job.IBMQJob)__:\n",
    "\n",
    "```\n",
    "job_monitor(job, interval=None, quiet=False, output=<_io.TextIOWrapper name='<stdout>' mode='w' encoding='utf-8'>, line_discipline='\\r')\n",
    "```"
   ]
  },
  {
   "cell_type": "code",
   "execution_count": 7,
   "metadata": {},
   "outputs": [
    {
     "name": "stdout",
     "output_type": "stream",
     "text": [
      "Job Status: job has successfully run\n"
     ]
    }
   ],
   "source": [
    "from qiskit.tools.monitor import job_monitor\n",
    "job_monitor(job)"
   ]
  },
  {
   "attachments": {},
   "cell_type": "markdown",
   "metadata": {},
   "source": [
    "or can itself be used by invoking its `.status()` method, which, according to the __[docs](https://qiskit.org/documentation/stable/0.28/stubs/qiskit.providers.ibmq.job.IBMQJob.html?highlight=ibmqjob#qiskit.providers.ibmq.job.IBMQJob.status)__ also queries the server for the latest job status."
   ]
  },
  {
   "cell_type": "code",
   "execution_count": 8,
   "metadata": {},
   "outputs": [
    {
     "data": {
      "text/plain": [
       "<JobStatus.DONE: 'job has successfully run'>"
      ]
     },
     "execution_count": 8,
     "metadata": {},
     "output_type": "execute_result"
    }
   ],
   "source": [
    "job.status()"
   ]
  },
  {
   "attachments": {},
   "cell_type": "markdown",
   "metadata": {},
   "source": [
    "Choice B. can be eliminated by following the description of `.job_monitor()` above, where nowhere it is said that a backend object can be used as well.\n",
    "\n",
    "Option C., while a valid instruction, it does not achieve what we want since __[the specifications](https://qiskit.org/documentation/stable/0.24/stubs/qiskit.providers.BaseBackend.html#qiskit.providers.BaseBackend)__ of the `qiskit.providers.BaseBackend` object tell us that its `.status()` method returns the backend status, and not that of the job.\n",
    "\n",
    "Option E. is invalid since the `AccountProvider` __[object](https://qiskit.org/documentation/stubs/qiskit.providers.ibmq.AccountProvider.html)__ returned by `qiskit.providers.ibmq.IBMQFactory.load_account` does not have a `.status()` method."
   ]
  },
  {
   "attachments": {},
   "cell_type": "markdown",
   "metadata": {},
   "source": [
    "Another alternative that allows monitoring the status of a lauched job is the `job_watcher` for __[Jupyter notebooks](https://qiskit.org/documentation/apidoc/tools_jupyter.html)__:"
   ]
  },
  {
   "cell_type": "code",
   "execution_count": 9,
   "metadata": {},
   "outputs": [
    {
     "data": {
      "application/vnd.jupyter.widget-view+json": {
       "model_id": "cad56302745c4487a8a31ffbcf311143",
       "version_major": 2,
       "version_minor": 0
      },
      "text/plain": [
       "Accordion(children=(VBox(layout=Layout(max_width='710px', min_width='710px')),), layout=Layout(max_height='500…"
      ]
     },
     "metadata": {},
     "output_type": "display_data"
    },
    {
     "data": {
      "application/javascript": "\n        const isLab = window['Jupyter'] === undefined;\n        const notebook = document.querySelector( isLab ? 'div.jp-Notebook' : '#site');\n        const jobWidget = document.querySelector('div.job_widget');\n        notebook.prepend(jobWidget);\n        jobWidget.style.zIndex = '999';\n        jobWidget.style.position = isLab ? 'sticky' : 'fixed';\n        jobWidget.style.boxShadow = '5px 5px 5px -3px black';\n        jobWidget.style.opacity = '0.95';\n        if (isLab) {\n            jobWidget.style.top = '0';\n            jobWidget.style.left = '0';\n        }\n        ",
      "text/plain": [
       "<IPython.core.display.Javascript object>"
      ]
     },
     "metadata": {},
     "output_type": "display_data"
    },
    {
     "name": "stdout",
     "output_type": "stream",
     "text": [
      "{'00': 516, '11': 508}\n"
     ]
    }
   ],
   "source": [
    "from qiskit.tools.jupyter import job_watcher\n",
    "%qiskit_job_watcher\n",
    "\n",
    "job = backend.retrieve_job(job_id)\n",
    "\n",
    "result = job.result()\n",
    "counts = result.get_counts()\n",
    "print(counts)"
   ]
  },
  {
   "attachments": {},
   "cell_type": "markdown",
   "metadata": {},
   "source": [
    "---\n",
    "---"
   ]
  },
  {
   "attachments": {},
   "cell_type": "markdown",
   "metadata": {},
   "source": [
    "### 10. Select 2. Which two of these can be used to initialize a vector of complex amplitudes on a quantum circuit (`qc`)?\n",
    "\n",
    "- A. `qc.initialize([0,1],0)`\n",
    "- B. `qc.initialize([0,0,1,1,0])`\n",
    "- C. `qc.initialize([0,1,1],[0,1])`\n",
    "- D. `qc.initialize([1,0,0,0],[0,1])`\n",
    "- E. `qc.initialize([1,0,0,0])`\n",
    "\n",
    "---"
   ]
  },
  {
   "attachments": {},
   "cell_type": "markdown",
   "metadata": {},
   "source": [
    "Answers are __A__ and __D__. From the __[docs](https://qiskit.org/documentation/stubs/qiskit.circuit.QuantumCircuit.initialize.html)__, the parameters of `QuantumCircuit.initialize(params, qubits=None)` are defined as:\n",
    "\n",
    "\n",
    "```\n",
    "- params (str or list or int):\n",
    "\n",
    "    str: labels of basis states of the Pauli eigenstates Z, X, Y. See Statevector.from_label(). Notice the order of the labels is   reversed with respect to the qubit index to be applied to. Example label ‘01’ initializes the qubit zero to |1> and the qubit   one to |0>.\n",
    "\n",
    "    list: vector of complex amplitudes to initialize to.\n",
    "\n",
    "    int: an integer that is used as a bitmap indicating which qubits to initialize to |1>. Example: setting params to 5 would initialize qubit 0 and qubit 2 to |1> and qubit 1 to |0>.\n",
    "```\n",
    "\n",
    "```\n",
    "- qubits (QuantumRegister or Qubit or int):\n",
    "\n",
    "    QuantumRegister: A list of qubits to be initialized [Default: None].\n",
    "\n",
    "    Qubit: Single qubit to be initialized [Default: None].\n",
    "\n",
    "    int: Index of qubit to be initialized [Default: None].\n",
    "\n",
    "    list: Indexes of qubits to be initialized [Default: None].\n",
    "```"
   ]
  },
  {
   "attachments": {},
   "cell_type": "markdown",
   "metadata": {},
   "source": [
    "Meaning that option A. initializes the $0$-th qubit to the $|1\\rangle = \\begin{bmatrix} 0 \\\\ 1 \\end{bmatrix}$ state:"
   ]
  },
  {
   "cell_type": "code",
   "execution_count": 12,
   "metadata": {},
   "outputs": [
    {
     "data": {
      "image/png": "[encoded data removed]",
      "text/plain": [
       "<Figure size 133.526x84.28 with 1 Axes>"
      ]
     },
     "execution_count": 12,
     "metadata": {},
     "output_type": "execute_result"
    }
   ],
   "source": [
    "qc = QuantumCircuit(1)\n",
    "qc.initialize([0,1], 0)\n",
    "qc.draw('mpl')"
   ]
  },
  {
   "attachments": {},
   "cell_type": "markdown",
   "metadata": {},
   "source": [
    "while "
   ]
  },
  {
   "cell_type": "code",
   "execution_count": 11,
   "metadata": {},
   "outputs": [
    {
     "ename": "QiskitError",
     "evalue": "'Initialize parameter vector has 2 elements, therefore expects 1 qubits. However, 3 were provided.'",
     "output_type": "error",
     "traceback": [
      "\u001b[1;31m---------------------------------------------------------------------------\u001b[0m",
      "\u001b[1;31mQiskitError\u001b[0m                               Traceback (most recent call last)",
      "\u001b[1;32m<ipython-input-11-43d37946a0fe>\u001b[0m in \u001b[0;36m<module>\u001b[1;34m\u001b[0m\n\u001b[0;32m      1\u001b[0m \u001b[0mqc\u001b[0m \u001b[1;33m=\u001b[0m \u001b[0mQuantumCircuit\u001b[0m\u001b[1;33m(\u001b[0m\u001b[1;36m3\u001b[0m\u001b[1;33m)\u001b[0m\u001b[1;33m\u001b[0m\u001b[1;33m\u001b[0m\u001b[0m\n\u001b[0;32m      2\u001b[0m \u001b[1;33m\u001b[0m\u001b[0m\n\u001b[1;32m----> 3\u001b[1;33m \u001b[0mqc\u001b[0m\u001b[1;33m.\u001b[0m\u001b[0minitialize\u001b[0m\u001b[1;33m(\u001b[0m\u001b[1;33m[\u001b[0m\u001b[1;36m0\u001b[0m\u001b[1;33m,\u001b[0m \u001b[1;36m1\u001b[0m\u001b[1;33m]\u001b[0m\u001b[1;33m)\u001b[0m\u001b[1;33m\u001b[0m\u001b[1;33m\u001b[0m\u001b[0m\n\u001b[0m\u001b[0;32m      4\u001b[0m \u001b[1;33m\u001b[0m\u001b[0m\n\u001b[0;32m      5\u001b[0m \u001b[0mqc\u001b[0m\u001b[1;33m.\u001b[0m\u001b[0mdraw\u001b[0m\u001b[1;33m(\u001b[0m\u001b[1;34m'mpl'\u001b[0m\u001b[1;33m)\u001b[0m\u001b[1;33m\u001b[0m\u001b[1;33m\u001b[0m\u001b[0m\n",
      "\u001b[1;32mc:\\Python38\\lib\\site-packages\\qiskit\\extensions\\quantum_initializer\\initializer.py\u001b[0m in \u001b[0;36minitialize\u001b[1;34m(self, params, qubits)\u001b[0m\n\u001b[0;32m    457\u001b[0m \u001b[1;33m\u001b[0m\u001b[0m\n\u001b[0;32m    458\u001b[0m     \u001b[0mnum_qubits\u001b[0m \u001b[1;33m=\u001b[0m \u001b[1;32mNone\u001b[0m \u001b[1;32mif\u001b[0m \u001b[1;32mnot\u001b[0m \u001b[0misinstance\u001b[0m\u001b[1;33m(\u001b[0m\u001b[0mparams\u001b[0m\u001b[1;33m,\u001b[0m \u001b[0mint\u001b[0m\u001b[1;33m)\u001b[0m \u001b[1;32melse\u001b[0m \u001b[0mlen\u001b[0m\u001b[1;33m(\u001b[0m\u001b[0mqubits\u001b[0m\u001b[1;33m)\u001b[0m\u001b[1;33m\u001b[0m\u001b[1;33m\u001b[0m\u001b[0m\n\u001b[1;32m--> 459\u001b[1;33m     \u001b[1;32mreturn\u001b[0m \u001b[0mself\u001b[0m\u001b[1;33m.\u001b[0m\u001b[0mappend\u001b[0m\u001b[1;33m(\u001b[0m\u001b[0mInitialize\u001b[0m\u001b[1;33m(\u001b[0m\u001b[0mparams\u001b[0m\u001b[1;33m,\u001b[0m \u001b[0mnum_qubits\u001b[0m\u001b[1;33m)\u001b[0m\u001b[1;33m,\u001b[0m \u001b[0mqubits\u001b[0m\u001b[1;33m)\u001b[0m\u001b[1;33m\u001b[0m\u001b[1;33m\u001b[0m\u001b[0m\n\u001b[0m\u001b[0;32m    460\u001b[0m \u001b[1;33m\u001b[0m\u001b[0m\n\u001b[0;32m    461\u001b[0m \u001b[1;33m\u001b[0m\u001b[0m\n",
      "\u001b[1;32mc:\\Python38\\lib\\site-packages\\qiskit\\circuit\\quantumcircuit.py\u001b[0m in \u001b[0;36mappend\u001b[1;34m(self, instruction, qargs, cargs)\u001b[0m\n\u001b[0;32m   1083\u001b[0m \u001b[1;33m\u001b[0m\u001b[0m\n\u001b[0;32m   1084\u001b[0m         \u001b[0minstructions\u001b[0m \u001b[1;33m=\u001b[0m \u001b[0mInstructionSet\u001b[0m\u001b[1;33m(\u001b[0m\u001b[1;33m)\u001b[0m\u001b[1;33m\u001b[0m\u001b[1;33m\u001b[0m\u001b[0m\n\u001b[1;32m-> 1085\u001b[1;33m         \u001b[1;32mfor\u001b[0m \u001b[1;33m(\u001b[0m\u001b[0mqarg\u001b[0m\u001b[1;33m,\u001b[0m \u001b[0mcarg\u001b[0m\u001b[1;33m)\u001b[0m \u001b[1;32min\u001b[0m \u001b[0minstruction\u001b[0m\u001b[1;33m.\u001b[0m\u001b[0mbroadcast_arguments\u001b[0m\u001b[1;33m(\u001b[0m\u001b[0mexpanded_qargs\u001b[0m\u001b[1;33m,\u001b[0m \u001b[0mexpanded_cargs\u001b[0m\u001b[1;33m)\u001b[0m\u001b[1;33m:\u001b[0m\u001b[1;33m\u001b[0m\u001b[1;33m\u001b[0m\u001b[0m\n\u001b[0m\u001b[0;32m   1086\u001b[0m             \u001b[0minstructions\u001b[0m\u001b[1;33m.\u001b[0m\u001b[0madd\u001b[0m\u001b[1;33m(\u001b[0m\u001b[0mself\u001b[0m\u001b[1;33m.\u001b[0m\u001b[0m_append\u001b[0m\u001b[1;33m(\u001b[0m\u001b[0minstruction\u001b[0m\u001b[1;33m,\u001b[0m \u001b[0mqarg\u001b[0m\u001b[1;33m,\u001b[0m \u001b[0mcarg\u001b[0m\u001b[1;33m)\u001b[0m\u001b[1;33m,\u001b[0m \u001b[0mqarg\u001b[0m\u001b[1;33m,\u001b[0m \u001b[0mcarg\u001b[0m\u001b[1;33m)\u001b[0m\u001b[1;33m\u001b[0m\u001b[1;33m\u001b[0m\u001b[0m\n\u001b[0;32m   1087\u001b[0m         \u001b[1;32mreturn\u001b[0m \u001b[0minstructions\u001b[0m\u001b[1;33m\u001b[0m\u001b[1;33m\u001b[0m\u001b[0m\n",
      "\u001b[1;32mc:\\Python38\\lib\\site-packages\\qiskit\\extensions\\quantum_initializer\\initializer.py\u001b[0m in \u001b[0;36mbroadcast_arguments\u001b[1;34m(self, qargs, cargs)\u001b[0m\n\u001b[0;32m    337\u001b[0m \u001b[1;33m\u001b[0m\u001b[0m\n\u001b[0;32m    338\u001b[0m         \u001b[1;32mif\u001b[0m \u001b[0mself\u001b[0m\u001b[1;33m.\u001b[0m\u001b[0mnum_qubits\u001b[0m \u001b[1;33m!=\u001b[0m \u001b[0mlen\u001b[0m\u001b[1;33m(\u001b[0m\u001b[0mflat_qargs\u001b[0m\u001b[1;33m)\u001b[0m\u001b[1;33m:\u001b[0m\u001b[1;33m\u001b[0m\u001b[1;33m\u001b[0m\u001b[0m\n\u001b[1;32m--> 339\u001b[1;33m             raise QiskitError(\n\u001b[0m\u001b[0;32m    340\u001b[0m                 \u001b[1;34m\"Initialize parameter vector has %d elements, therefore expects %s \"\u001b[0m\u001b[1;33m\u001b[0m\u001b[1;33m\u001b[0m\u001b[0m\n\u001b[0;32m    341\u001b[0m                 \u001b[1;34m\"qubits. However, %s were provided.\"\u001b[0m\u001b[1;33m\u001b[0m\u001b[1;33m\u001b[0m\u001b[0m\n",
      "\u001b[1;31mQiskitError\u001b[0m: 'Initialize parameter vector has 2 elements, therefore expects 1 qubits. However, 3 were provided.'"
     ]
    }
   ],
   "source": [
    "qc = QuantumCircuit(3)\n",
    "\n",
    "qc.initialize([0, 1])\n",
    "\n",
    "qc.draw('mpl')"
   ]
  },
  {
   "attachments": {},
   "cell_type": "markdown",
   "metadata": {},
   "source": [
    "---"
   ]
  },
  {
   "attachments": {},
   "cell_type": "markdown",
   "metadata": {},
   "source": [
    "### 11. Which code fragment could be used to produce this plot?"
   ]
  },
  {
   "cell_type": "code",
   "execution_count": null,
   "metadata": {},
   "outputs": [],
   "source": [
    "from qiskit.visualization import plot_error_map, plot_gate_map\n",
    "backend = provider.get_backend('ibmq_quito')\n",
    "\n",
    "plot_error_map(backend)"
   ]
  },
  {
   "attachments": {},
   "cell_type": "markdown",
   "metadata": {},
   "source": [
    "Another question might be with the plot_gate_map. For instance, how do you know the connectivy of the backend ? "
   ]
  },
  {
   "cell_type": "code",
   "execution_count": null,
   "metadata": {},
   "outputs": [],
   "source": [
    "plot_gate_map(backend)"
   ]
  },
  {
   "attachments": {},
   "cell_type": "markdown",
   "metadata": {},
   "source": [
    "---"
   ]
  },
  {
   "attachments": {},
   "cell_type": "markdown",
   "metadata": {},
   "source": [
    "### 12. Which code fragment, when inserted into the code below, would create a circuit with a matrix different to the identity matrix?"
   ]
  },
  {
   "cell_type": "code",
   "execution_count": null,
   "metadata": {},
   "outputs": [],
   "source": [
    "from qiskit import QuantumCircuit, Aer, execute\n",
    "from math import pi\n",
    "qc = QuantumCircuit(2)\n",
    "\n",
    "# insert code here\n",
    "\n",
    "u_sim = Aer.get_backend('unitary_simulator')\n",
    "unitary = execute(qc,u_sim).result().get_unitary()\n",
    "print(unitary)"
   ]
  },
  {
   "cell_type": "code",
   "execution_count": null,
   "metadata": {},
   "outputs": [],
   "source": [
    "# A\n",
    "\n",
    "qc.crz(pi,0,1)\n",
    "qc.crz(-pi,0,1)"
   ]
  },
  {
   "cell_type": "code",
   "execution_count": null,
   "metadata": {},
   "outputs": [],
   "source": [
    "# B\n",
    "\n",
    "qc.crz(pi,0,1)\n",
    "qc.cp(pi,0,1)"
   ]
  },
  {
   "cell_type": "code",
   "execution_count": null,
   "metadata": {},
   "outputs": [],
   "source": [
    "# C\n",
    "\n",
    "qc.cz(0,1)\n",
    "qc.cz(1,0)"
   ]
  },
  {
   "cell_type": "code",
   "execution_count": null,
   "metadata": {},
   "outputs": [],
   "source": [
    "# D\n",
    "\n",
    "qc.cz(0,1)\n",
    "qc.cp(pi,0,1)"
   ]
  },
  {
   "attachments": {},
   "cell_type": "markdown",
   "metadata": {},
   "source": [
    "---"
   ]
  },
  {
   "attachments": {},
   "cell_type": "markdown",
   "metadata": {},
   "source": [
    "### 13. Given the devide details below from `%qiskit_backend_overview`"
   ]
  },
  {
   "cell_type": "code",
   "execution_count": null,
   "metadata": {},
   "outputs": [],
   "source": [
    "import qiskit.tools.jupyter \n",
    "%qiskit_backend_overview"
   ]
  },
  {
   "attachments": {},
   "cell_type": "markdown",
   "metadata": {},
   "source": [
    "### Which devide would you send your job. If you wanted the results as soon as possible?"
   ]
  },
  {
   "attachments": {},
   "cell_type": "markdown",
   "metadata": {},
   "source": [
    "Answer is..."
   ]
  },
  {
   "attachments": {},
   "cell_type": "markdown",
   "metadata": {},
   "source": [
    "---"
   ]
  },
  {
   "attachments": {},
   "cell_type": "markdown",
   "metadata": {},
   "source": [
    "### 14. Which code fragment will create the circuit shown when inserted into the code below?"
   ]
  },
  {
   "cell_type": "code",
   "execution_count": null,
   "metadata": {},
   "outputs": [],
   "source": [
    "from qiskit import QuantumCircuit\n",
    "qc = QuantumCircuit(3)\n",
    "\n",
    "#insert code fragment here\n",
    "#Output\n",
    "\n",
    "\n",
    "### you won't see the following lines of code in the exam, just focus on the figure\n",
    "from IPython.display import Image\n",
    "\n",
    "Image(url=\"imageassesment1.png\", width=350, height=350)"
   ]
  },
  {
   "cell_type": "code",
   "execution_count": null,
   "metadata": {},
   "outputs": [],
   "source": [
    "# A\n",
    " \n",
    "qc.measure_all()"
   ]
  },
  {
   "cell_type": "code",
   "execution_count": null,
   "metadata": {},
   "outputs": [],
   "source": [
    "# B\n",
    "\n",
    "qc = QuantumCircuit(3)\n",
    "qc.measure()"
   ]
  },
  {
   "cell_type": "code",
   "execution_count": null,
   "metadata": {},
   "outputs": [],
   "source": [
    "# C\n",
    "\n",
    "qc = QuantumCircuit(3)\n",
    "qc.measure(0,0)\n",
    "qc.measure(1,1)\n",
    "qc.measure(2,2)"
   ]
  },
  {
   "cell_type": "code",
   "execution_count": null,
   "metadata": {},
   "outputs": [],
   "source": [
    "# D\n",
    "\n",
    "qc = QuantumCircuit(3)\n",
    "for n in range(len(qc.qubits)):\n",
    "    qc.measure(n,n)"
   ]
  },
  {
   "attachments": {},
   "cell_type": "markdown",
   "metadata": {},
   "source": [
    "The answer is __A__. "
   ]
  },
  {
   "attachments": {},
   "cell_type": "markdown",
   "metadata": {},
   "source": [
    "---"
   ]
  },
  {
   "attachments": {},
   "cell_type": "markdown",
   "metadata": {},
   "source": [
    "### 15. Assuming that this sample code is added at each barrier in the QuantumCircuit, sort the Q-sphere in the order that they will display."
   ]
  },
  {
   "cell_type": "code",
   "execution_count": null,
   "metadata": {},
   "outputs": [],
   "source": [
    "## here you need to display each line or lines of code before each barrier in the Qsphere, the question is about \n",
    "#to put in order the sequence of states that will appear in the Qsphere. "
   ]
  },
  {
   "cell_type": "code",
   "execution_count": null,
   "metadata": {},
   "outputs": [],
   "source": [
    "qc = QuantumCircuit(3)\n",
    "qc.x(1)\n",
    "qc.barrier()\n",
    "qc.h(0)\n",
    "qc.h(1)\n",
    "qc.h(2)\n",
    "qc.barrier()\n",
    "qc.z(1)\n",
    "qc.barrier()\n",
    "qc.h(0)\n",
    "qc.h(1)\n",
    "qc.h(2)\n",
    "\n",
    "qc.draw('mpl')"
   ]
  },
  {
   "cell_type": "code",
   "execution_count": null,
   "metadata": {},
   "outputs": [],
   "source": [
    "from qiskit.visualization import plot_state_qsphere\n",
    "simulator= Aer.get_backend('statevector_simulator')\n",
    "result = execute(qc,simulator).result()\n",
    "statevector = result.get_statevector(qc)\n",
    "plot_state_qsphere(statevector)"
   ]
  },
  {
   "attachments": {},
   "cell_type": "markdown",
   "metadata": {},
   "source": [
    "---"
   ]
  },
  {
   "attachments": {},
   "cell_type": "markdown",
   "metadata": {},
   "source": [
    "### 16. Select 2. Given the following code:"
   ]
  },
  {
   "cell_type": "code",
   "execution_count": null,
   "metadata": {},
   "outputs": [],
   "source": [
    "from qiskit import BasicAer, Aer, execute\n",
    "qc = QuantumCircuit(1)\n",
    "qc.h(0)\n",
    "\n",
    "# insert code fragment here\n",
    "\n",
    "print(unitary)"
   ]
  },
  {
   "attachments": {},
   "cell_type": "markdown",
   "metadata": {},
   "source": [
    "### Which two code fragments would you insert above to print the below output?"
   ]
  },
  {
   "cell_type": "code",
   "execution_count": null,
   "metadata": {},
   "outputs": [],
   "source": [
    "# A \n",
    "\n",
    "simulator = BasicAer.get_backend('unitary_simulator')\n",
    "unitary = execute(qc,simulator).get_unitary(qc)"
   ]
  },
  {
   "cell_type": "code",
   "execution_count": null,
   "metadata": {},
   "outputs": [],
   "source": [
    "# B\n",
    "\n",
    "simulator = Aer.get_backend('unitary_simulator')\n",
    "result = execute(qc,simulator).result()\n",
    "unitary = result.get_unitary(qc)"
   ]
  },
  {
   "cell_type": "code",
   "execution_count": null,
   "metadata": {},
   "outputs": [],
   "source": [
    "# C\n",
    "\n",
    "simulator = Aer.get_backend('statevector_simulator')\n",
    "result = execute(qc,simulator).result()\n",
    "unitary = result.get_matrix_result(qc)"
   ]
  },
  {
   "cell_type": "code",
   "execution_count": null,
   "metadata": {},
   "outputs": [],
   "source": [
    "# D\n",
    "\n",
    "simulator = BasicAer.get_backend('statevector_simulator')\n",
    "result = execute(qc,simulator).result()\n",
    "unitary = result.get_unitary(qc)"
   ]
  },
  {
   "cell_type": "code",
   "execution_count": null,
   "metadata": {},
   "outputs": [],
   "source": [
    "# E\n",
    "\n",
    "simulator = BasicAer.get_backend('unitary_simulator')\n",
    "result = execute(qc,simulator).result()\n",
    "unitary = result.get_unitary()"
   ]
  },
  {
   "attachments": {},
   "cell_type": "markdown",
   "metadata": {},
   "source": [
    "The answer is __A__."
   ]
  },
  {
   "attachments": {},
   "cell_type": "markdown",
   "metadata": {},
   "source": [
    "---"
   ]
  },
  {
   "attachments": {},
   "cell_type": "markdown",
   "metadata": {},
   "source": [
    "### 17. Which code fragment defines vector such that the code below will show this output?"
   ]
  },
  {
   "cell_type": "code",
   "execution_count": null,
   "metadata": {},
   "outputs": [],
   "source": [
    "from qiskit.visualization import plot_bloch_vector\n",
    "from math import pi, sqrt\n",
    "\n",
    "plot_bloch_vector(vector)"
   ]
  },
  {
   "cell_type": "code",
   "execution_count": null,
   "metadata": {},
   "outputs": [],
   "source": [
    "# A\n",
    " \n",
    "vector = [1,-1,0]"
   ]
  },
  {
   "cell_type": "code",
   "execution_count": null,
   "metadata": {},
   "outputs": [],
   "source": [
    "# B\n",
    "\n",
    "vector = [pi/2,-pi/4,0]"
   ]
  },
  {
   "cell_type": "code",
   "execution_count": null,
   "metadata": {},
   "outputs": [],
   "source": [
    "# C\n",
    "\n",
    "vector = [1/sqrt(2),-1/sqrt(2),0]"
   ]
  },
  {
   "cell_type": "code",
   "execution_count": null,
   "metadata": {},
   "outputs": [],
   "source": [
    "# D\n",
    "\n",
    "vector = [1/sqrt(2),-1/sqrt(2),-1]"
   ]
  },
  {
   "attachments": {},
   "cell_type": "markdown",
   "metadata": {},
   "source": [
    "The answer is __C__."
   ]
  },
  {
   "attachments": {},
   "cell_type": "markdown",
   "metadata": {},
   "source": [
    "---"
   ]
  },
  {
   "attachments": {},
   "cell_type": "markdown",
   "metadata": {},
   "source": [
    "### 18. How many qubits does this Q-sphere represents? "
   ]
  },
  {
   "cell_type": "code",
   "execution_count": null,
   "metadata": {},
   "outputs": [],
   "source": [
    "from qiskit.visualization import plot_state_qsphere\n",
    "qc = QuantumCircuit(3)\n",
    "qc.h(0)\n",
    "#qc.z(0)\n",
    "qc.x(1)\n",
    "qc.cx(0,1)\n",
    "qc.x(2)\n",
    "qc.cx(1,2)\n",
    "\n",
    "\n",
    "backend = BasicAer.get_backend('statevector_simulator')\n",
    "job = execute(qc, backend).result()\n",
    "statevector= job.get_statevector()\n",
    "\n",
    "plot_state_qsphere(statevector)"
   ]
  },
  {
   "attachments": {},
   "cell_type": "markdown",
   "metadata": {},
   "source": [
    "---"
   ]
  },
  {
   "attachments": {},
   "cell_type": "markdown",
   "metadata": {},
   "source": [
    "### 18. Which code fragment produces this output?"
   ]
  },
  {
   "cell_type": "code",
   "execution_count": null,
   "metadata": {},
   "outputs": [],
   "source": [
    "qc = QuantumCircuit(1)\n",
    "qc.x(0)\n",
    "qc.h(0)\n",
    "simulator = Aer.get_backend('unitary_simulator')\n",
    "job = execute(qc,simulator)\n",
    "result = job.result()\n",
    "outputstate = result.get_unitary(qc,1)\n",
    "print(outputstate)"
   ]
  },
  {
   "attachments": {},
   "cell_type": "markdown",
   "metadata": {},
   "source": [
    "---"
   ]
  },
  {
   "attachments": {},
   "cell_type": "markdown",
   "metadata": {},
   "source": [
    "### 19. Which code fragment produces this circuit?"
   ]
  },
  {
   "cell_type": "code",
   "execution_count": null,
   "metadata": {},
   "outputs": [],
   "source": [
    "qc = QuantumCircuit(3,3)\n",
    "qc.h([0,1,2])\n",
    "qc.barrier()\n",
    "qc.measure([0,1,2],range(3))\n",
    "qc.draw()"
   ]
  },
  {
   "cell_type": "code",
   "execution_count": null,
   "metadata": {},
   "outputs": [],
   "source": [
    "print(qc.qasm())"
   ]
  },
  {
   "attachments": {},
   "cell_type": "markdown",
   "metadata": {},
   "source": [
    "---"
   ]
  },
  {
   "attachments": {},
   "cell_type": "markdown",
   "metadata": {},
   "source": [
    "### 19. Which would be printed when calling `print(counts)` in the code below? A drawing of qc in its final state has been included."
   ]
  },
  {
   "cell_type": "code",
   "execution_count": null,
   "metadata": {},
   "outputs": [],
   "source": [
    "qasm_sim = Aer.get_backend('qasm_simulator')\n",
    "qc= QuantumCircuit(3)\n",
    "qc.x([0,1,2])\n",
    "qc.ccx(0,1,2)\n",
    "qc.measure_all()\n",
    "\n",
    "\n",
    "\n",
    "result = execute(qc,qasm_sim).result()\n",
    "counts = result.get_counts()\n",
    "print(counts)"
   ]
  },
  {
   "cell_type": "code",
   "execution_count": null,
   "metadata": {},
   "outputs": [],
   "source": [
    "qc= QuantumCircuit(3)\n",
    "qc.ct()"
   ]
  },
  {
   "attachments": {},
   "cell_type": "markdown",
   "metadata": {},
   "source": [
    "---"
   ]
  },
  {
   "attachments": {},
   "cell_type": "markdown",
   "metadata": {},
   "source": [
    "### 20. Given the code:"
   ]
  },
  {
   "cell_type": "code",
   "execution_count": null,
   "metadata": {},
   "outputs": [],
   "source": [
    "from qiskit.quantum_info import DensityMatrix\n",
    "\n",
    "matrix1 = [\n",
    "    [1,0],[0,0]\n",
    "]\n",
    "matrix2 = [\n",
    "    [0.5,0.5],[0.5,0.5]\n",
    "]"
   ]
  },
  {
   "attachments": {},
   "cell_type": "markdown",
   "metadata": {},
   "source": [
    "#### Which code fragment would provide the below output?"
   ]
  },
  {
   "cell_type": "code",
   "execution_count": null,
   "metadata": {},
   "outputs": [],
   "source": [
    "#A\n",
    "result= DensityMatrix.tensor(matrix1,matrix2)\n",
    "print(result)"
   ]
  },
  {
   "cell_type": "code",
   "execution_count": null,
   "metadata": {},
   "outputs": [],
   "source": [
    "#B\n",
    "matrix1 = DensityMatrix(matrix1)\n",
    "print(matrix1.tensor(matrix2))"
   ]
  },
  {
   "cell_type": "code",
   "execution_count": null,
   "metadata": {},
   "outputs": [],
   "source": [
    "#C\n",
    "print(matrix1.tensor(matrix2))"
   ]
  },
  {
   "cell_type": "code",
   "execution_count": null,
   "metadata": {},
   "outputs": [],
   "source": [
    "#D\n",
    "print(DensityMatrix.tensor(matrix1,matrix2))"
   ]
  },
  {
   "attachments": {},
   "cell_type": "markdown",
   "metadata": {},
   "source": [
    "The answer is __B__."
   ]
  },
  {
   "attachments": {},
   "cell_type": "markdown",
   "metadata": {},
   "source": [
    "---"
   ]
  },
  {
   "attachments": {},
   "cell_type": "markdown",
   "metadata": {},
   "source": [
    "### 21. Which diagram will be produced by the circuit illustrated below?"
   ]
  },
  {
   "cell_type": "code",
   "execution_count": null,
   "metadata": {},
   "outputs": [],
   "source": [
    "from qiskit.visualization import plot_state_city\n",
    "qc = QuantumCircuit(2)\n",
    "qc.h(0)\n",
    "qc.x(1)\n",
    "qc.cx(0,1)\n",
    "qc.z(0)\n",
    "\n",
    "simulator = BasicAer.get_backend('statevector_simulator')\n",
    "job = execute(qc,simulator).result()\n",
    "statevector = job.get_statevector()\n",
    "\n",
    "plot_state_city(statevector)"
   ]
  },
  {
   "attachments": {},
   "cell_type": "markdown",
   "metadata": {},
   "source": [
    "---"
   ]
  },
  {
   "attachments": {},
   "cell_type": "markdown",
   "metadata": {},
   "source": [
    "### 21. When starting at qubit state $|0\\rangle$, which code snippet will result in the qubit state $|0\\rangle$"
   ]
  },
  {
   "cell_type": "code",
   "execution_count": null,
   "metadata": {},
   "outputs": [],
   "source": [
    "qc = QuantumCircuit(1)\n",
    "\n",
    "#A\n",
    "#qc.ry(pi/2,0)\n",
    "#qc.s(0)\n",
    "#qc.rx(pi/2,0)\n",
    "\n",
    "#B\n",
    "#qc.ry(pi/2,0)\n",
    "#qc.rx(pi/2,0)\n",
    "#qc.s(0)\n",
    "\n",
    "#C\n",
    "#qc.s(0)\n",
    "#qc.ry(pi/2,0)\n",
    "#qc.rx(pi/2,0)\n",
    "\n",
    "#D\n",
    "qc.rx(pi/2,0)\n",
    "qc.s(0)\n",
    "qc.ry(pi/2,0)\n",
    "\n",
    "\n",
    "\n",
    "\n",
    "qc.measure_all()\n",
    "\n",
    "simulator = BasicAer.get_backend('qasm_simulator')\n",
    "job = execute(qc,simulator).result()\n",
    "counts = job.get_counts()\n",
    "\n",
    "print(counts)"
   ]
  },
  {
   "attachments": {},
   "cell_type": "markdown",
   "metadata": {},
   "source": [
    "---"
   ]
  },
  {
   "cell_type": "code",
   "execution_count": null,
   "metadata": {},
   "outputs": [],
   "source": [
    "from qiskit.quantum_info import DensityMatrix\n",
    "\n",
    "qc = QuantumCircuit(2)\n",
    "qc.h(0)\n",
    "qc.cx(0,1)\n",
    "\n",
    "qc1= QuantumCircuit(2)\n",
    "qc1.h(0)\n",
    "qc1.x(1)\n",
    "qc1.cx(0,1)\n",
    "\n",
    "#qc.draw('mpl')\n",
    "\n",
    "rho_qc=DensityMatrix.from_instruction(qc)\n",
    "rho_qc.draw()\n",
    "\n",
    "rho1= DensityMatrix.from_instruction(qc1)\n",
    "rho1.draw()\n",
    "\n",
    "qc1new = qc1.decompose()\n",
    "qc1new.draw()\n",
    "#tensor1 = DensityMatrix.from_label('[[0,1],[1,0]]')"
   ]
  },
  {
   "cell_type": "code",
   "execution_count": null,
   "metadata": {},
   "outputs": [],
   "source": [
    "qc = QuantumCircuit(2)\n",
    "\n",
    "#v1,v2 = [0,1],[0,1]\n",
    "\n",
    "v = [1/sqrt(2),0,0,1/sqrt(2)]\n",
    "qc.initialize(v,[0,1])\n",
    "\n",
    "\n",
    "qc.draw(output='mpl')"
   ]
  },
  {
   "cell_type": "code",
   "execution_count": null,
   "metadata": {},
   "outputs": [],
   "source": [
    "simulator = Aer.get_backend('statevector_simulator')\n",
    "\n",
    "result = execute(qc, simulator).result()\n",
    "\n",
    "statevector = result.get_statevector()\n",
    "print(statevector)"
   ]
  },
  {
   "cell_type": "code",
   "execution_count": null,
   "metadata": {},
   "outputs": [],
   "source": [
    "from qiskit.circuit.library import CXGate\n",
    "\n",
    "ccx = CXGate().control()\n",
    "\n",
    "qc = QuantumCircuit(3)\n",
    "\n",
    "qc.append(ccx,[0,1,2])\n",
    "\n",
    "\n",
    "qc.draw()"
   ]
  },
  {
   "cell_type": "code",
   "execution_count": null,
   "metadata": {},
   "outputs": [],
   "source": [
    "from qiskit import QuantumCircuit, QuantumRegister, ClassicalRegister, Aer, execute"
   ]
  },
  {
   "cell_type": "code",
   "execution_count": null,
   "metadata": {},
   "outputs": [],
   "source": [
    "qc= QuantumCircuit(3)\n",
    "qc.barrier()\n",
    "\n",
    "qc.barrier([0])\n",
    "qc.draw()"
   ]
  },
  {
   "cell_type": "code",
   "execution_count": null,
   "metadata": {},
   "outputs": [],
   "source": [
    "qc = QuantumCircuit.from_qasm_file('myfile.qasm')\n",
    "\n",
    "qc.measure_all()\n",
    "qc.draw(output='latex_source')"
   ]
  },
  {
   "cell_type": "code",
   "execution_count": null,
   "metadata": {},
   "outputs": [],
   "source": [
    "from qiskit.quantum_info import Statevector\n",
    "from qiskit.visualization import plot_state_qsphere, plot_state_paulivec, plot_state_city, plot_bloch_vector, plot_state_hinton, plot_bloch_multivector\n",
    "stavec = Statevector.from_label('001')"
   ]
  },
  {
   "cell_type": "code",
   "execution_count": null,
   "metadata": {},
   "outputs": [],
   "source": [
    "plot_state_paulivec(stavec)"
   ]
  },
  {
   "cell_type": "code",
   "execution_count": null,
   "metadata": {},
   "outputs": [],
   "source": [
    "import qiskit.tools.jupyter\n",
    "%qiskit_version_table"
   ]
  },
  {
   "cell_type": "code",
   "execution_count": null,
   "metadata": {},
   "outputs": [],
   "source": [
    "import qiskit.tools.jupyter\n",
    "%qiskit_backend_overview"
   ]
  }
 ],
 "metadata": {
  "kernelspec": {
   "display_name": "Python 3",
   "language": "python",
   "name": "python3"
  },
  "language_info": {
   "codemirror_mode": {
    "name": "ipython",
    "version": 3
   },
   "file_extension": ".py",
   "mimetype": "text/x-python",
   "name": "python",
   "nbconvert_exporter": "python",
   "pygments_lexer": "ipython3",
   "version": "3.8.2"
  },
  "orig_nbformat": 4,
  "vscode": {
   "interpreter": {
    "hash": "9650cb4e16cdd4a8e8e2d128bf38d875813998db22a3c986335f89e0cb4d7bb2"
   }
  }
 },
 "nbformat": 4,
 "nbformat_minor": 2
}
