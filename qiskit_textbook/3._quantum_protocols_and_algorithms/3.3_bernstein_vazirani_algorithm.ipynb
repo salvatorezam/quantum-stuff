{
 "cells": [
  {
   "attachments": {},
   "cell_type": "markdown",
   "metadata": {},
   "source": [
    "# Bernstein-Vazirani Algorithm\n",
    "\n",
    "In this section, we first introduce the Bernstein-Vazirani problem, its classical solution, and the quantum algorithm to solve it. We then implement the quantum algorithm using Qiskit and run it on both a simulator and a device.\n",
    "\n",
    "## 1. The Bernstein-Vazirani Algorithm\n",
    "\n",
    "The Bernstein-Vazirani algorithm, first introduced in Reference __[1](https://epubs.siam.org/doi/10.1137/S0097539796300921)__, can be seen as an extension of the Deutsch-Jozsa algorithm we covered in the last section. It showed that there can be advantages in using a quantum computer as a computational tool for more complex problems than the Deutsch-Jozsa problem.\n",
    "\n",
    "### 1.1 The Bernstein-Vazirani Problem\n",
    "\n",
    "We are again given a black-box function $f$, which takes as input a string of bits $(x)$, and returns either `0` or `1`, that is: \n",
    "\n",
    "$$ f(\\{x_0,x_1,x_2,...\\}) \\rightarrow 0 \\textrm{ or } 1 \\textrm{ where } x_n \\textrm{ is }0 \\textrm{ or } 1 $$\n",
    "\n",
    "Instead of the function being balanced or constant as in the Deutsch-Jozsa problem, now the function is guaranteed to return the bitwise product of the input with some string, $s$. In other words, given an input $x$, $f(x) = s \\cdot x \\, \\text{(mod 2)}$. We are expected to find $s$. As a classical reversible circuit, the Bernstein-Vazirani oracle looks like this:\n",
    "\n",
    "<div align=\"center\"> <img src=\"https://qiskit.org/textbook/ch-algorithms/images/bv2.png\"> </div>\n",
    "\n",
    "### 1.2 The Classical Solution\n",
    "\n",
    "Classically, the oracle returns: \n",
    "\n",
    "$$ f_s(x) = s \\cdot x \\mod 2 $$\n",
    "\n",
    "given an input $x$. Thus, the hidden bit string s can be revealed by querying the oracle with the sequence of inputs:\n",
    "\n",
    "<table align=\"center\">\n",
    "    <thead>\n",
    "        <tr> <th style=\"text-align:center\">Input(x)</th> </tr>\n",
    "    </thead>\n",
    "    <tbody>\n",
    "        <tr> <td style=\"text-align:center\">100...0</td> </tr>\n",
    "        <tr> <td style=\"text-align:center\">010...0</td> </tr>\n",
    "        <tr> <td style=\"text-align:center\">001...0</td> </tr>\n",
    "        <tr> <td style=\"text-align:center\">000...1</td> </tr>\n",
    "    </tbody>\n",
    "</table>\n",
    "\n",
    "Where each query reveals a different bit of $s$ (the bit $s_i$). For example, with $x = 1000...0$ one can obtain the least significant bit of $s$, with $x = 0100...0$ we can find the next least significant, and so on. This means we would need to call the function $f_s(x)$, $n$ times.\n",
    "\n",
    "### 1.3 The Quantum Solution \n",
    "\n",
    "Using a quantum computer, we can solve this problem with $100%$ confidence after only one call to the function $f(x)$. The quantum Bernstein-Vazirani algorithm to find the hidden bit string is very simple:\n",
    "\n",
    "1. Initialize the inputs qubits to the $|0\\rangle^{\\otimes n}$ state, and output qubit to $|-\\rangle$.\n",
    "2. Apply Hadamard gates to the input register.\n",
    "3. Query the oracle.\n",
    "4. Apply Hadamard gates to the input register.\n",
    "5. Measure.\n",
    "\n",
    "<div align=\"center\"> <img src=\"https://qiskit.org/textbook/ch-algorithms/images/bv1.png\"> </div>"
   ]
  },
  {
   "attachments": {},
   "cell_type": "markdown",
   "metadata": {},
   "source": [
    "To explain the algorithm, let’s look more closely at what happens when we apply a $H$-gate to each qubit. If we have an $n$-qubit state, $|a\\rangle$, and apply the $H$-gates, we will see the transformation:\n",
    "\n",
    "$$ |a\\rangle \\xrightarrow{H^{\\otimes n}} \\frac{1}{\\sqrt{2^n}} \\sum_{x\\in \\{0,1\\}^n} (-1)^{a\\cdot x}|x\\rangle. $$\n",
    "\n",
    "which comes from remembering that \n",
    "\n",
    "$$ H|a\\rangle = \\frac{1}{\\sqrt{2}}\\sum_{x\\in \\{0,1\\}} (-1)^{a\\cdot x}|x\\rangle $$\n",
    "\n",
    "applied to two qubits becomes\n",
    "\n",
    "$$ H^{\\otimes 2}|00\\rangle = \\tfrac{1}{2}(|00\\rangle + |01\\rangle + |10\\rangle + |11\\rangle) $$\n",
    "$$ H^{\\otimes 2}|01\\rangle = \\tfrac{1}{2}(|00\\rangle - |01\\rangle + |10\\rangle - |11\\rangle) $$\n",
    "$$ H^{\\otimes 2}|10\\rangle = \\tfrac{1}{2}(|00\\rangle + |01\\rangle - |10\\rangle - |11\\rangle) $$\n",
    "$$ H^{\\otimes 2}|11\\rangle = \\tfrac{1}{2}(|00\\rangle - |01\\rangle - |10\\rangle + |11\\rangle) $$\n",
    "\n",
    "this can be summarized as \n",
    "\n",
    "$$ H^{\\otimes 2}|a\\rangle = \\frac{1}{2}\\sum_{x\\in \\{0,1\\}^2} (-1)^{a\\cdot x}|x\\rangle $$\n",
    "\n",
    "In particular, when we start with a quantum register $|00…0\\rangle$ and apply $n$ Hadamard gates to it, we have the familiar quantum superposition:\n",
    "\n",
    "$$ |00\\dots 0\\rangle \\xrightarrow{H^{\\otimes n}} \\frac{1}{\\sqrt{2^n}} \\sum_{x\\in \\{0,1\\}^n} |x\\rangle $$\n",
    "\n",
    "In this case, the phase term $(−1)^{a⋅x}$ disappears since $a = 0$.\n",
    "\n",
    "The classical oracle $f_s$ returns `1` for any input $x$ such that $s \\cdot x\\mod 2 = 1$, and returns `0` otherwise. If we use the same phase kickback trick from the Deutsch-Jozsa algorithm and act on a qubit in the state $|−\\rangle$, we get the following transformation:\n",
    "\n",
    "$$ |x \\rangle \\xrightarrow{f_s} (-1)^{s\\cdot x} |x \\rangle $$\n",
    "\n",
    "The algorithm to reveal the hidden bit string follows naturally by querying the quantum oracle $f_s$ with the quantum superposition obtained from the Hadamard transformation of $|00…0\\rangle$. Namely,\n",
    "\n",
    "$$ |00\\dots 0\\rangle \\xrightarrow{H^{\\otimes n}} \\frac{1}{\\sqrt{2^n}} \\sum_{x\\in \\{0,1\\}^n} |x\\rangle \\xrightarrow{f_a} \\frac{1}{\\sqrt{2^n}} \\sum_{x\\in \\{0,1\\}^n} (-1)^{a\\cdot x}|x\\rangle $$\n",
    "\n",
    "Because the inverse of the $n$ Hadamard gates is again the $n$ Hadamard gates, we can obtain $a$ by\n",
    "\n",
    "$$ \\frac{1}{\\sqrt{2^n}} \\sum_{x\\in \\{0,1\\}^n} (-1)^{a\\cdot x}|x\\rangle \\xrightarrow{H^{\\otimes n}} |a\\rangle $$\n"
   ]
  },
  {
   "attachments": {},
   "cell_type": "markdown",
   "metadata": {},
   "source": [
    "## 2. Example\n",
    "\n",
    "Let's go through a specific example for $n=2$ qubits and a secret string $s=11$. Note that we are following the formulation in Reference __[2](https://arxiv.org/abs/quant-ph/0012114)__ that generates a circuit for the Bernstein-Vazirani quantum oracle using only one register.\n",
    "\n",
    "1. The register of two qubits is initialized to zero: \n",
    "\n",
    "$$ |\\psi_0\\rangle = |00\\rangle $$\n",
    "\n",
    "2. Apply a Hadamard gate to both qubits: \n",
    "\n",
    "$$ \\lvert \\psi_1 \\rangle = \\frac{1}{2} \\left( \\lvert 0 0 \\rangle + \\lvert 0 1 \\rangle + \\lvert 1 0 \\rangle + \\lvert 1 1 \\rangle \\right) $$\n",
    "\n",
    "3. For the string $s=11$, the quantum oracle performs the operation:\n",
    "\n",
    "$$ |x \\rangle \\xrightarrow{f_s} (-1)^{x\\cdot 11} |x \\rangle. $$\n",
    "\n",
    "$$ \\lvert \\psi_2 \\rangle = \\frac{1}{2} \\left( (-1)^{00\\cdot 11}|00\\rangle + (-1)^{01\\cdot 11}|01\\rangle + (-1)^{10\\cdot 11}|10\\rangle + (-1)^{11\\cdot 11}|11\\rangle \\right) $$\n",
    "\n",
    "$$ \\lvert \\psi_2 \\rangle = \\frac{1}{2} \\left( \\lvert 0 0 \\rangle - \\lvert 0 1 \\rangle - \\lvert 1 0 \\rangle + \\lvert 1 1 \\rangle \\right) $$\n",
    "\n",
    "4. Apply a Hadamard gate to both qubits: \n",
    "\n",
    "$$ \\lvert \\psi_3 \\rangle = \\lvert 1 1 \\rangle $$\n",
    "\n",
    "5. Measure to find the secret string $s=11$."
   ]
  },
  {
   "attachments": {},
   "cell_type": "markdown",
   "metadata": {},
   "source": [
    "## 3. Qiskit Implementation\n",
    "\n",
    "We'll now walk through the Bernstein-Vazirani algorithm implementation in Qiskit for a three bit function with $s=011$."
   ]
  },
  {
   "cell_type": "code",
   "execution_count": 1,
   "metadata": {},
   "outputs": [],
   "source": [
    "# initialization\n",
    "import matplotlib.pyplot as plt\n",
    "import numpy as np\n",
    "\n",
    "# importing Qiskit\n",
    "from qiskit import IBMQ, Aer\n",
    "from qiskit.providers.ibmq import least_busy\n",
    "from qiskit import QuantumCircuit, transpile\n",
    "\n",
    "# import basic plot tools\n",
    "from qiskit.visualization import plot_histogram"
   ]
  },
  {
   "attachments": {},
   "cell_type": "markdown",
   "metadata": {},
   "source": [
    "We first set the number of qubits used in the experiment, and the hidden bit string $s$ to be found by the algorithm. The hidden bit string $s$ determines the circuit for the quantum oracle."
   ]
  },
  {
   "cell_type": "code",
   "execution_count": 2,
   "metadata": {},
   "outputs": [],
   "source": [
    "n = 3 # number of qubits used to represent s\n",
    "s = '011'   # the hidden binary string"
   ]
  },
  {
   "attachments": {},
   "cell_type": "markdown",
   "metadata": {},
   "source": [
    "We then use Qiskit to program the Bernstein-Vazirani algorithm."
   ]
  },
  {
   "cell_type": "code",
   "execution_count": 3,
   "metadata": {},
   "outputs": [
    {
     "data": {
      "image/png": "[encoded data removed]",
      "text/plain": [
       "<Figure size 748.797x325.08 with 1 Axes>"
      ]
     },
     "execution_count": 3,
     "metadata": {},
     "output_type": "execute_result"
    }
   ],
   "source": [
    "# we need a circuit with n qubits, plus one auxiliary qubit;\n",
    "# also need n classical bits to write the output to\n",
    "bv_circuit = QuantumCircuit(n+1, n)\n",
    "\n",
    "# put auxiliary in state |->\n",
    "bv_circuit.h(n)\n",
    "bv_circuit.z(n)\n",
    "\n",
    "# apply Hadamard gates before querying the oracle\n",
    "for i in range(n):\n",
    "    bv_circuit.h(i)\n",
    "    \n",
    "# apply barrier \n",
    "bv_circuit.barrier()\n",
    "\n",
    "# apply the inner-product oracle\n",
    "s = s[::-1] # reverse s to fit qiskit's qubit ordering\n",
    "for q in range(n):\n",
    "    if s[q] == '0':\n",
    "        bv_circuit.i(q)\n",
    "    else:\n",
    "        bv_circuit.cx(q, n)\n",
    "        \n",
    "# apply barrier \n",
    "bv_circuit.barrier()\n",
    "\n",
    "# apply Hadamard gates after querying the oracle\n",
    "for i in range(n):\n",
    "    bv_circuit.h(i)\n",
    "\n",
    "# measurement\n",
    "for i in range(n):\n",
    "    bv_circuit.measure(i, i)\n",
    "\n",
    "bv_circuit.draw(output=\"mpl\")"
   ]
  },
  {
   "attachments": {},
   "cell_type": "markdown",
   "metadata": {},
   "source": [
    "### 3a. Experiment with Simulators\n",
    "\n",
    "We can run the above circuit on the simulator."
   ]
  },
  {
   "cell_type": "code",
   "execution_count": 4,
   "metadata": {},
   "outputs": [
    {
     "data": {
      "image/png": "[encoded data removed]",
      "text/plain": [
       "<Figure size 504x360 with 1 Axes>"
      ]
     },
     "execution_count": 4,
     "metadata": {},
     "output_type": "execute_result"
    }
   ],
   "source": [
    "# use local simulator\n",
    "aer_sim = Aer.get_backend('aer_simulator')\n",
    "\n",
    "results = aer_sim.run(bv_circuit).result()\n",
    "answer = results.get_counts()\n",
    "\n",
    "plot_histogram(answer)"
   ]
  },
  {
   "attachments": {},
   "cell_type": "markdown",
   "metadata": {},
   "source": [
    "We can see that the result of the measurement is the hidden string `011`.\n",
    "\n",
    "### 3b. Experiment with Real Devices \n",
    "\n",
    "We can run the circuit on the real device as below."
   ]
  },
  {
   "cell_type": "code",
   "execution_count": 5,
   "metadata": {},
   "outputs": [
    {
     "name": "stdout",
     "output_type": "stream",
     "text": [
      "least busy backend:  ibmq_lima\n"
     ]
    }
   ],
   "source": [
    "# load our saved IBMQ accounts and get the least busy backend device with less than or equal to 5 qubits\n",
    "IBMQ.load_account()\n",
    "provider = IBMQ.get_provider(hub='ibm-q')\n",
    "provider.backends()\n",
    "backend = least_busy(provider.backends(filters=lambda x: x.configuration().n_qubits <= 5 and\n",
    "                                   x.configuration().n_qubits >= 2 and\n",
    "                                   not x.configuration().simulator and x.status().operational==True))\n",
    "print(\"least busy backend: \", backend)"
   ]
  },
  {
   "cell_type": "code",
   "execution_count": 6,
   "metadata": {},
   "outputs": [
    {
     "name": "stdout",
     "output_type": "stream",
     "text": [
      "Job Status: job has successfully run\n"
     ]
    }
   ],
   "source": [
    "# run our circuit on the least busy backend. Monitor the execution of the job in the queue\n",
    "from qiskit.tools.monitor import job_monitor\n",
    "\n",
    "shots = 1024\n",
    "transpiled_bv_circuit = transpile(bv_circuit, backend)\n",
    "job = backend.run(transpiled_bv_circuit, shots=shots)\n",
    "\n",
    "job_monitor(job, interval=2)"
   ]
  },
  {
   "cell_type": "code",
   "execution_count": 7,
   "metadata": {},
   "outputs": [
    {
     "data": {
      "image/png": "[encoded data removed]",
      "text/plain": [
       "<Figure size 504x360 with 1 Axes>"
      ]
     },
     "execution_count": 7,
     "metadata": {},
     "output_type": "execute_result"
    }
   ],
   "source": [
    "# get the results from the computation\n",
    "results = job.result()\n",
    "answer = results.get_counts()\n",
    "\n",
    "plot_histogram(answer)"
   ]
  },
  {
   "attachments": {},
   "cell_type": "markdown",
   "metadata": {},
   "source": [
    "As we can see, most of the results are `011`. The other results are due to errors in the quantum computation."
   ]
  }
 ],
 "metadata": {
  "kernelspec": {
   "display_name": "Python 3.8.2 64-bit",
   "language": "python",
   "name": "python3"
  },
  "language_info": {
   "codemirror_mode": {
    "name": "ipython",
    "version": 3
   },
   "file_extension": ".py",
   "mimetype": "text/x-python",
   "name": "python",
   "nbconvert_exporter": "python",
   "pygments_lexer": "ipython3",
   "version": "3.8.2"
  },
  "orig_nbformat": 4,
  "vscode": {
   "interpreter": {
    "hash": "9650cb4e16cdd4a8e8e2d128bf38d875813998db22a3c986335f89e0cb4d7bb2"
   }
  }
 },
 "nbformat": 4,
 "nbformat_minor": 2
}
